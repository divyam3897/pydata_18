{
  "nbformat": 4,
  "nbformat_minor": 0,
  "metadata": {
    "colab": {
      "name": "cleverhans_attack",
      "version": "0.3.2",
      "views": {},
      "default_view": {},
      "provenance": []
    },
    "kernelspec": {
      "name": "python3",
      "display_name": "Python 3"
    },
    "accelerator": "GPU"
  },
  "cells": [
    {
      "metadata": {
        "id": "YAlU8TynbiA1",
        "colab_type": "code",
        "colab": {
          "autoexec": {
            "startup": false,
            "wait_interval": 0
          },
          "base_uri": "https://localhost:8080/",
          "height": 136
        },
        "outputId": "a5ad2cb5-9667-421e-b1cc-05374f57d985",
        "executionInfo": {
          "status": "ok",
          "timestamp": 1533025400788,
          "user_tz": -330,
          "elapsed": 17524,
          "user": {
            "displayName": "Divyam Madaan",
            "photoUrl": "//lh4.googleusercontent.com/-WJ1YUS-UtVk/AAAAAAAAAAI/AAAAAAAAA_w/ik3I2ygFEyg/s50-c-k-no/photo.jpg",
            "userId": "103643422624890122899"
          }
        }
      },
      "cell_type": "code",
      "source": [
        "!pip install -qq -e git+http://github.com/tensorflow/cleverhans.git#egg=cleverhans\n",
        "import sys\n",
        "sys.path.append('/content/src/cleverhans')\n",
        "!pip install keras"
      ],
      "execution_count": 1,
      "outputs": [
        {
          "output_type": "stream",
          "text": [
            "Requirement already satisfied: keras in /usr/local/lib/python3.6/dist-packages (2.1.6)\r\n",
            "Requirement already satisfied: scipy>=0.14 in /usr/local/lib/python3.6/dist-packages (from keras) (0.19.1)\r\n",
            "Requirement already satisfied: numpy>=1.9.1 in /usr/local/lib/python3.6/dist-packages (from keras) (1.14.5)\r\n",
            "Requirement already satisfied: h5py in /usr/local/lib/python3.6/dist-packages (from keras) (2.8.0)\r\n",
            "Requirement already satisfied: pyyaml in /usr/local/lib/python3.6/dist-packages (from keras) (3.13)\r\n",
            "Requirement already satisfied: six>=1.9.0 in /usr/local/lib/python3.6/dist-packages (from keras) (1.11.0)\r\n"
          ],
          "name": "stdout"
        },
        {
          "output_type": "stream",
          "text": [
            "Using TensorFlow backend.\n"
          ],
          "name": "stderr"
        }
      ]
    },
    {
      "metadata": {
        "id": "gyo7Okv4bs4q",
        "colab_type": "code",
        "colab": {
          "autoexec": {
            "startup": false,
            "wait_interval": 0
          }
        }
      },
      "cell_type": "code",
      "source": [
        "from cleverhans.attacks import FastGradientMethod\n",
        "from cleverhans.loss import LossCrossEntropy\n",
        "from cleverhans.utils import AccuracyReport\n",
        "from cleverhans.utils_keras import cnn_model\n",
        "from cleverhans.utils_keras import KerasModelWrapper\n",
        "from cleverhans.utils_mnist import data_mnist\n",
        "from cleverhans.utils_tf import train, model_eval\n",
        "import keras\n",
        "from keras import backend\n",
        "import numpy as np\n",
        "import tensorflow as tf\n",
        "from tensorflow.python.platform import flags\n",
        "import os\n",
        "import matplotlib.pyplot as plt"
      ],
      "execution_count": 0,
      "outputs": []
    },
    {
      "metadata": {
        "id": "KZ9zutgxeG2g",
        "colab_type": "code",
        "colab": {
          "autoexec": {
            "startup": false,
            "wait_interval": 0
          }
        }
      },
      "cell_type": "code",
      "source": [
        "sess = tf.Session()\n",
        "keras.backend.set_session(sess)\n",
        "\n",
        "x_train, y_train, x_test, y_test = data_mnist()\n",
        "report = AccuracyReport()"
      ],
      "execution_count": 0,
      "outputs": []
    },
    {
      "metadata": {
        "id": "KgJlxvSbeRk5",
        "colab_type": "code",
        "colab": {
          "autoexec": {
            "startup": false,
            "wait_interval": 0
          }
        }
      },
      "cell_type": "code",
      "source": [
        " img_rows, img_cols, nchannels = x_train.shape[1:4]\n",
        " nb_classes = y_train.shape[1]"
      ],
      "execution_count": 0,
      "outputs": []
    },
    {
      "metadata": {
        "id": "k7Bv3s0TeeEH",
        "colab_type": "code",
        "colab": {
          "autoexec": {
            "startup": false,
            "wait_interval": 0
          }
        }
      },
      "cell_type": "code",
      "source": [
        "    # Define input TF placeholder\n",
        "x = tf.placeholder(tf.float32, shape=(None, img_rows, img_cols,\n",
        "                                          nchannels))\n",
        "y = tf.placeholder(tf.float32, shape=(None, nb_classes))\n"
      ],
      "execution_count": 0,
      "outputs": []
    },
    {
      "metadata": {
        "id": "a9w3bZE8e47k",
        "colab_type": "code",
        "colab": {
          "autoexec": {
            "startup": false,
            "wait_interval": 0
          },
          "base_uri": "https://localhost:8080/",
          "height": 34
        },
        "outputId": "2a41ee7c-9b16-4067-8554-e9377ceed81b",
        "executionInfo": {
          "status": "ok",
          "timestamp": 1533026600108,
          "user_tz": -330,
          "elapsed": 1454,
          "user": {
            "displayName": "Divyam Madaan",
            "photoUrl": "//lh4.googleusercontent.com/-WJ1YUS-UtVk/AAAAAAAAAAI/AAAAAAAAA_w/ik3I2ygFEyg/s50-c-k-no/photo.jpg",
            "userId": "103643422624890122899"
          }
        }
      },
      "cell_type": "code",
      "source": [
        "model = cnn_model(img_rows=img_rows, img_cols=img_cols,\n",
        "                      channels=nchannels, nb_filters=64,\n",
        "                      nb_classes=nb_classes)\n",
        "preds = model(x)\n",
        "print(\"Defined TensorFlow model graph.\")"
      ],
      "execution_count": 24,
      "outputs": [
        {
          "output_type": "stream",
          "text": [
            "Defined TensorFlow model graph.\n"
          ],
          "name": "stdout"
        }
      ]
    },
    {
      "metadata": {
        "id": "w3GdQJF8e-hI",
        "colab_type": "code",
        "colab": {
          "autoexec": {
            "startup": false,
            "wait_interval": 0
          }
        }
      },
      "cell_type": "code",
      "source": [
        "wrap = KerasModelWrapper(model)"
      ],
      "execution_count": 0,
      "outputs": []
    },
    {
      "metadata": {
        "id": "199RS2CnfUDo",
        "colab_type": "code",
        "colab": {
          "autoexec": {
            "startup": false,
            "wait_interval": 0
          }
        }
      },
      "cell_type": "code",
      "source": [
        "def evaluate():\n",
        "        # Evaluate the accuracy of the MNIST model on legitimate test examples\n",
        "  eval_params = {'batch_size': 128}\n",
        "  acc = model_eval(sess, x, y, preds, x_test, y_test, args=eval_params)\n",
        "  report.clean_train_clean_eval = acc\n",
        "#        assert X_test.shape[0] == test_end - test_start, X_test.shape\n",
        "  print('Test accuracy on legitimate examples: %0.4f' % acc)"
      ],
      "execution_count": 0,
      "outputs": []
    },
    {
      "metadata": {
        "id": "I2Hzt4_ufqQn",
        "colab_type": "code",
        "colab": {
          "autoexec": {
            "startup": false,
            "wait_interval": 0
          }
        }
      },
      "cell_type": "code",
      "source": [
        "train_params = {\n",
        "        'nb_epochs': 6,\n",
        "        'batch_size': 128,\n",
        "        'learning_rate': 0.001\n",
        "    }\n"
      ],
      "execution_count": 0,
      "outputs": []
    },
    {
      "metadata": {
        "id": "4biuJvN9fG3B",
        "colab_type": "code",
        "colab": {
          "autoexec": {
            "startup": false,
            "wait_interval": 0
          },
          "base_uri": "https://localhost:8080/",
          "height": 136
        },
        "outputId": "c6a50c5a-74e3-4a48-a1d6-4c59188bbf64",
        "executionInfo": {
          "status": "ok",
          "timestamp": 1533026646595,
          "user_tz": -330,
          "elapsed": 42107,
          "user": {
            "displayName": "Divyam Madaan",
            "photoUrl": "//lh4.googleusercontent.com/-WJ1YUS-UtVk/AAAAAAAAAAI/AAAAAAAAA_w/ik3I2ygFEyg/s50-c-k-no/photo.jpg",
            "userId": "103643422624890122899"
          }
        }
      },
      "cell_type": "code",
      "source": [
        "loss = LossCrossEntropy(wrap, smoothing=0.1)\n",
        "train(sess, loss, x, y, x_train, y_train, evaluate=evaluate,\n",
        "              args=train_params)"
      ],
      "execution_count": 28,
      "outputs": [
        {
          "output_type": "stream",
          "text": [
            "Test accuracy on legitimate examples: 0.9866\n",
            "Test accuracy on legitimate examples: 0.9914\n",
            "Test accuracy on legitimate examples: 0.9927\n",
            "Test accuracy on legitimate examples: 0.9924\n",
            "Test accuracy on legitimate examples: 0.9923\n",
            "Test accuracy on legitimate examples: 0.9939\n"
          ],
          "name": "stdout"
        },
        {
          "output_type": "execute_result",
          "data": {
            "text/plain": [
              "True"
            ]
          },
          "metadata": {
            "tags": []
          },
          "execution_count": 28
        }
      ]
    },
    {
      "metadata": {
        "id": "9JyzrFGyfOIf",
        "colab_type": "code",
        "colab": {
          "autoexec": {
            "startup": false,
            "wait_interval": 0
          }
        }
      },
      "cell_type": "code",
      "source": [
        "eval_params = {'batch_size': 128}\n",
        "acc = model_eval(sess, x, y, preds, x_train, y_train, args=eval_params)\n",
        "report.train_clean_train_clean_eval = acc"
      ],
      "execution_count": 0,
      "outputs": []
    },
    {
      "metadata": {
        "id": "iUsdXYnBgrBw",
        "colab_type": "code",
        "colab": {
          "autoexec": {
            "startup": false,
            "wait_interval": 0
          }
        }
      },
      "cell_type": "code",
      "source": [
        "fgsm = FastGradientMethod(wrap, sess=sess)\n",
        "fgsm_params = {'eps': 0.3,\n",
        "                'clip_min': 0.,\n",
        "                'clip_max': 1.}"
      ],
      "execution_count": 0,
      "outputs": []
    },
    {
      "metadata": {
        "id": "ZIkNUJ-ng7GV",
        "colab_type": "code",
        "colab": {
          "autoexec": {
            "startup": false,
            "wait_interval": 0
          }
        }
      },
      "cell_type": "code",
      "source": [
        "adv_x = fgsm.generate(x, **fgsm_params)\n",
        "    # Consider the attack to be constant\n",
        "adv_x = tf.stop_gradient(adv_x)\n",
        "preds_adv = model(adv_x)"
      ],
      "execution_count": 0,
      "outputs": []
    },
    {
      "metadata": {
        "id": "XA19Dt19g8oU",
        "colab_type": "code",
        "colab": {
          "autoexec": {
            "startup": false,
            "wait_interval": 0
          },
          "base_uri": "https://localhost:8080/",
          "height": 51
        },
        "outputId": "be332820-489f-4bdb-87c7-ba69ea1b51a9",
        "executionInfo": {
          "status": "ok",
          "timestamp": 1533026774155,
          "user_tz": -330,
          "elapsed": 2744,
          "user": {
            "displayName": "Divyam Madaan",
            "photoUrl": "//lh4.googleusercontent.com/-WJ1YUS-UtVk/AAAAAAAAAAI/AAAAAAAAA_w/ik3I2ygFEyg/s50-c-k-no/photo.jpg",
            "userId": "103643422624890122899"
          }
        }
      },
      "cell_type": "code",
      "source": [
        "    # Evaluate the accuracy of the MNIST model on adversarial examples\n",
        "eval_par = {'batch_size': 128}\n",
        "acc = model_eval(sess, x, y, preds_adv, x_test, y_test, args=eval_par)\n",
        "print('Test accuracy on adversarial examples: %0.4f\\n' % acc)\n",
        "report.clean_train_adv_eval = acc"
      ],
      "execution_count": 35,
      "outputs": [
        {
          "output_type": "stream",
          "text": [
            "Test accuracy on adversarial examples: 0.1126\n",
            "\n"
          ],
          "name": "stdout"
        }
      ]
    },
    {
      "metadata": {
        "id": "aovX0AEvg__F",
        "colab_type": "code",
        "colab": {
          "autoexec": {
            "startup": false,
            "wait_interval": 0
          }
        }
      },
      "cell_type": "code",
      "source": [
        ""
      ],
      "execution_count": 0,
      "outputs": []
    }
  ]
}